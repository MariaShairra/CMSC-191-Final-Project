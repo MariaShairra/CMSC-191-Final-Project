{
 "cells": [
  {
   "cell_type": "code",
   "execution_count": 1,
   "metadata": {},
   "outputs": [],
   "source": [
    "import pandas as pd\n",
    "import matplotlib.pyplot as plt"
   ]
  },
  {
   "cell_type": "code",
   "execution_count": 2,
   "metadata": {},
   "outputs": [
    {
     "data": {
      "image/png": "[encoded data removed]",
      "text/plain": [
       "<Figure size 432x288 with 1 Axes>"
      ]
     },
     "metadata": {
      "needs_background": "light"
     },
     "output_type": "display_data"
    }
   ],
   "source": [
    "import numpy as np\n",
    "x=pd.read_csv(\"C:/Users/Shairra/Weather2020.csv\")\n",
    "y=pd.read_csv(\"C:/Users/Shairra/Weather2020.csv\")\n",
    "\n",
    "y1=list(x[\"Months\"])\n",
    "x1=list(x[\"second\"])\n",
    "z1=list(x[\"19\"])\n",
    "w1=list(x[\"18\"])\n",
    "\n",
    "plt.plot(y1, x1,'*')\n",
    "plt.show()"
   ]
  },
  {
   "cell_type": "code",
   "execution_count": 3,
   "metadata": {},
   "outputs": [
    {
     "name": "stdout",
     "output_type": "stream",
     "text": [
      "    Place Months     1         2      3     4     5     6     7     8  ...  \\\n",
      "0   Davao    Jan  3.50  5.500000  5.500  3.00  3.25  5.00  5.25  3.75  ...   \n",
      "1   Davao    Feb  2.00  4.000000  2.750  2.75  2.25  3.75  5.50  3.75  ...   \n",
      "2   Davao    Mar  4.50  4.750000  3.000  2.75  4.25  4.25  3.75  3.75  ...   \n",
      "3   Davao    Apr  4.25  3.250000  2.667  2.75  2.25  2.75  2.75  3.75  ...   \n",
      "4   Davao    May  4.50  5.000000  5.000  2.75  2.50  3.00  2.00  4.00  ...   \n",
      "5   Davao    Jun  2.75  4.750000  6.750  5.00  3.75  5.75  6.75  5.25  ...   \n",
      "6   Davao    Jul  7.50  4.333333  3.500  3.00  3.00  3.75  4.50  3.25  ...   \n",
      "7   Davao    Aug  4.25  4.500000  4.500  5.25  4.25  5.00  5.50  5.00  ...   \n",
      "8   Davao    Sep  3.50  3.750000  2.500  2.25  3.50  2.75  4.50  2.25  ...   \n",
      "9   Davao    Oct  4.00  5.000000  4.000  3.50  3.25  5.75  6.00  5.00  ...   \n",
      "10  Davao    Nov  4.50  4.250000  3.250  2.75  3.75  4.50  2.75  3.25  ...   \n",
      "11  Davao    Dec  4.50  4.500000  4.250  6.00  4.00  5.00  5.50  3.75  ...   \n",
      "\n",
      "      28    29    30    31      first  second      third    avgd19  diff  \\\n",
      "0   2.75  4.00  3.50  3.50  41.750000  34.000  39.750000  0.916667  0.75   \n",
      "1   4.50  5.00  0.00  0.00  32.750000  32.750  32.500000  1.416667  2.00   \n",
      "2   5.00  3.00  3.50  2.75  35.500000  28.000  38.250000  0.833333  1.75   \n",
      "3   4.50  4.00  0.00  0.00  30.917000  32.500  30.500000  1.416667  1.75   \n",
      "4   7.50  2.00  4.75  2.75  36.500000  46.000  40.500000  2.166667  3.25   \n",
      "5   3.50  4.50  2.75  0.00  49.750000  37.917  33.500000  0.666667  2.50   \n",
      "6   4.00  4.50  6.25  5.75  40.333333  30.250  46.333333  1.083333  1.00   \n",
      "7   3.00  3.50  6.50  4.00  47.500000  40.500  43.250000  1.416667  1.25   \n",
      "8   2.50  7.50  3.50  0.00  32.750000  45.000  43.500000  0.916667  1.50   \n",
      "9   5.50  4.75  3.25  4.50  43.500000  45.750  50.000000  1.666667  0.50   \n",
      "10  3.25  2.00  2.50  0.00  36.250000  32.750  33.750000  0.916667  0.00   \n",
      "11  6.50  4.75  4.00  3.75  42.750000  41.750  43.750000  1.500000  1.00   \n",
      "\n",
      "    flood  \n",
      "0       0  \n",
      "1       0  \n",
      "2       0  \n",
      "3       0  \n",
      "4       1  \n",
      "5       0  \n",
      "6       0  \n",
      "7       0  \n",
      "8       1  \n",
      "9       1  \n",
      "10      0  \n",
      "11      0  \n",
      "\n",
      "[12 rows x 39 columns]\n"
     ]
    }
   ],
   "source": [
    "flood=[] #0-no flood 1-there is flood\n",
    "d19=[] #day 19 weather\n",
    "diff=[] #difference of day 18 and day 19\n",
    "\n",
    "#Creating a new column with binary classification depending if that group of 10 days in a month had flooded or not,\n",
    "#using the 2020 weather of Davao as threshold\n",
    "for i in range(0,len(x1)):\n",
    "    if x1[i]>=45:\n",
    "        flood.append('1')\n",
    "    else:\n",
    "        flood.append('0')\n",
    "\n",
    "#Approaximately finding the weather data for Day 19\n",
    "for k in range(0,len(x1)):\n",
    "    d19.append(z1[k]/3)\n",
    "\n",
    "#Finding the increase in weather from Day 18 to Day 19\n",
    "for k in range(0,len(x1)):\n",
    "    diff.append(abs(w1[k]-z1[k]))\n",
    "\n",
    "df = pd.DataFrame({'flood':flood})\n",
    "df1=pd.DataFrame({'Day19':d19})\n",
    "\n",
    "x[\"avgd19\"]=d19\n",
    "x[\"diff\"]=diff\n",
    "x[\"flood\"]=flood\n",
    "\n",
    "#Saving the New CSV file with the new columns\n",
    "x.to_csv(\"Weather2020WithNewColumns.csv\")\n",
    "print((x))"
   ]
  },
  {
   "cell_type": "code",
   "execution_count": 4,
   "metadata": {},
   "outputs": [],
   "source": [
    "#Logistic Regression"
   ]
  },
  {
   "cell_type": "code",
   "execution_count": 5,
   "metadata": {},
   "outputs": [],
   "source": [
    "import scipy \n",
    "from scipy.stats import spearmanr\n",
    "\n",
    "from sklearn.ensemble import RandomForestClassifier\n",
    "from sklearn.preprocessing import scale\n",
    "from sklearn.linear_model import LogisticRegression\n",
    "from sklearn.model_selection import train_test_split\n",
    "from sklearn import preprocessing"
   ]
  },
  {
   "cell_type": "code",
   "execution_count": 6,
   "metadata": {},
   "outputs": [
    {
     "name": "stdout",
     "output_type": "stream",
     "text": [
      "Accuracy :  0.9166666666666666\n"
     ]
    }
   ],
   "source": [
    "#Taking the columns which will be used for training the model\n",
    "#35 - Third group of 10 days in a month\n",
    "#36 - Average of Day 19\n",
    "#37 - Difference of weather from Day 18 to Day 19\n",
    "#38 - Binary class of flood- 0 OR 1\n",
    "\n",
    "#We use Logistic Regression for training\n",
    "\n",
    "#For columns 35-37 - Third group of 10 days in a month, Average of Day 19, and Difference of weather from Day 18 to Day 19\n",
    "X = x.iloc[:,35:38]\n",
    "#For column 38 - Binary class of flood- 0 OR 1\n",
    "y1= x.iloc[:,38]\n",
    "\n",
    "#print(X)\n",
    "#print(y1)\n",
    "\n",
    "(X_train, X_test, Y_train, Y_test) = train_test_split(X, y1, random_state=0)\n",
    "\n",
    "Lr=LogisticRegression()\n",
    "\n",
    "Lr.fit(X,y1)\n",
    "print(\"Accuracy : \", Lr.score(X,y1))  # Print Accuracy"
   ]
  },
  {
   "cell_type": "code",
   "execution_count": 7,
   "metadata": {},
   "outputs": [
    {
     "name": "stdout",
     "output_type": "stream",
     "text": [
      "0 - no chance of severe flood\n",
      "1 - possibility of severe flood\n"
     ]
    }
   ],
   "source": [
    "q1=1.25 #january 8-9 2021 weather data on average\n",
    "w1=43.5 #average weather in past 10 days of january\n",
    "e1=1.75 #average increase in weather from january 9 to 10 2021\n",
    "\n",
    "q2=1 #january 15-16 2021 weather data on average\n",
    "w2=53 #average weather in past 10 days of january\n",
    "e2=3 #average increase in weather from january 16 to 17 2021\n",
    "\n",
    "#q3=0.5 #sample weather data on average\n",
    "#w3=20 #sample average weather\n",
    "#e3=3 #sample average increase in weather\n",
    "\n",
    "l=[[q1,w1,e1],[q2,w2,e2]]\n",
    "\n",
    "f1=Lr.predict(l)\n",
    "\n",
    "for i in range(len(f1)):\n",
    "\n",
    "    if (int(f1[i])==1):\n",
    "        print(f1[i],\"- possibility of severe flood\")\n",
    "    else:\n",
    "        print(f1[i],\"- no chance of severe flood\")"
   ]
  },
  {
   "cell_type": "code",
   "execution_count": 8,
   "metadata": {},
   "outputs": [],
   "source": [
    "#KNN Classifier"
   ]
  },
  {
   "cell_type": "code",
   "execution_count": 9,
   "metadata": {},
   "outputs": [
    {
     "data": {
      "text/plain": [
       "array([[0.47435897, 0.16666667, 0.23076923],\n",
       "       [0.1025641 , 0.5       , 0.61538462],\n",
       "       [0.3974359 , 0.11111111, 0.53846154],\n",
       "       [0.        , 0.5       , 0.53846154],\n",
       "       [0.51282051, 1.        , 1.        ],\n",
       "       [0.15384615, 0.        , 0.76923077],\n",
       "       [0.81196581, 0.27777778, 0.30769231],\n",
       "       [0.65384615, 0.5       , 0.38461538],\n",
       "       [0.66666667, 0.16666667, 0.46153846],\n",
       "       [1.        , 0.66666667, 0.15384615],\n",
       "       [0.16666667, 0.16666667, 0.        ],\n",
       "       [0.67948718, 0.55555556, 0.30769231]])"
      ]
     },
     "execution_count": 9,
     "metadata": {},
     "output_type": "execute_result"
    }
   ],
   "source": [
    "from sklearn import model_selection,neighbors\n",
    "\n",
    "# Scaling the data between 0 and 1.\n",
    "from sklearn import preprocessing\n",
    "minmax = preprocessing.MinMaxScaler(feature_range=(0,1))\n",
    "minmax.fit(X).transform(X)"
   ]
  },
  {
   "cell_type": "code",
   "execution_count": 10,
   "metadata": {},
   "outputs": [
    {
     "data": {
      "text/plain": [
       "KNeighborsClassifier()"
      ]
     },
     "execution_count": 10,
     "metadata": {},
     "output_type": "execute_result"
    }
   ],
   "source": [
    "clf=neighbors.KNeighborsClassifier()\n",
    "clf.fit(X_train,Y_train)"
   ]
  },
  {
   "cell_type": "code",
   "execution_count": 11,
   "metadata": {},
   "outputs": [
    {
     "name": "stdout",
     "output_type": "stream",
     "text": [
      "Predicted Values for the Floods:\n"
     ]
    },
    {
     "data": {
      "text/plain": [
       "array(['0', '0', '0'], dtype=object)"
      ]
     },
     "execution_count": 11,
     "metadata": {},
     "output_type": "execute_result"
    }
   ],
   "source": [
    "# Predicted chance of Flood.\n",
    "print(\"Predicted Values for the Floods:\")\n",
    "Y_predict=clf.predict(X_test)\n",
    "Y_predict"
   ]
  },
  {
   "cell_type": "code",
   "execution_count": 12,
   "metadata": {},
   "outputs": [
    {
     "name": "stdout",
     "output_type": "stream",
     "text": [
      "Actual Values for the Floods:\n",
      "6     0\n",
      "11    0\n",
      "4     1\n",
      "Name: flood, dtype: object\n"
     ]
    }
   ],
   "source": [
    "print(\"Actual Values for the Floods:\")\n",
    "print(Y_test)"
   ]
  },
  {
   "cell_type": "code",
   "execution_count": 13,
   "metadata": {},
   "outputs": [
    {
     "name": "stderr",
     "output_type": "stream",
     "text": [
      "C:\\Users\\Shairra\\anaconda3\\lib\\site-packages\\sklearn\\model_selection\\_split.py:670: UserWarning: The least populated class in y has only 2 members, which is less than n_splits=3.\n",
      "  warnings.warn((\"The least populated class in y has only %d\"\n",
      "C:\\Users\\Shairra\\anaconda3\\lib\\site-packages\\sklearn\\model_selection\\_split.py:670: UserWarning: The least populated class in y has only 2 members, which is less than n_splits=3.\n",
      "  warnings.warn((\"The least populated class in y has only %d\"\n"
     ]
    }
   ],
   "source": [
    "#Scaling the dataset.\n",
    "from sklearn.model_selection import cross_val_score,cross_val_predict\n",
    "X_train_std= minmax.fit_transform(X_train)\n",
    "X_test_std= minmax.fit_transform(X_test)\n",
    "knn_acc=cross_val_score(clf,X_train_std,Y_train,cv=3,scoring='accuracy',n_jobs=-1)\n",
    "knn_proba=cross_val_predict(clf,X_train_std,Y_train,cv=3,method='predict_proba')"
   ]
  },
  {
   "cell_type": "code",
   "execution_count": 14,
   "metadata": {},
   "outputs": [
    {
     "name": "stdout",
     "output_type": "stream",
     "text": [
      "\n",
      "Accuracy Score:66.666667\n"
     ]
    }
   ],
   "source": [
    "from sklearn.metrics import accuracy_score\n",
    "print(\"\\nAccuracy Score:%f\"%(accuracy_score(Y_test,Y_predict)*100))"
   ]
  }
 ],
 "metadata": {
  "kernelspec": {
   "display_name": "Python 3",
   "language": "python",
   "name": "python3"
  },
  "language_info": {
   "codemirror_mode": {
    "name": "ipython",
    "version": 3
   },
   "file_extension": ".py",
   "mimetype": "text/x-python",
   "name": "python",
   "nbconvert_exporter": "python",
   "pygments_lexer": "ipython3",
   "version": "3.8.3"
  }
 },
 "nbformat": 4,
 "nbformat_minor": 4
}
